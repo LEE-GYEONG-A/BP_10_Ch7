{
  "nbformat": 4,
  "nbformat_minor": 0,
  "metadata": {
    "colab": {
      "provenance": [],
      "authorship_tag": "ABX9TyNmmhgHlARuiXTHPUGIT69h",
      "include_colab_link": true
    },
    "kernelspec": {
      "name": "python3",
      "display_name": "Python 3"
    },
    "language_info": {
      "name": "python"
    }
  },
  "cells": [
    {
      "cell_type": "markdown",
      "metadata": {
        "id": "view-in-github",
        "colab_type": "text"
      },
      "source": [
        "<a href=\"https://colab.research.google.com/github/LEE-GYEONG-A/BP_10_Ch7/blob/main/BP_10_EX_Ch7.ipynb\" target=\"_parent\"><img src=\"https://colab.research.google.com/assets/colab-badge.svg\" alt=\"Open In Colab\"/></a>"
      ]
    },
    {
      "cell_type": "code",
      "execution_count": null,
      "metadata": {
        "colab": {
          "base_uri": "https://localhost:8080/",
          "height": 400
        },
        "id": "SY2PoJ_i3gCx",
        "outputId": "b02f3746-e7ca-4928-cd43-e73224b59657"
      },
      "outputs": [
        {
          "output_type": "error",
          "ename": "TclError",
          "evalue": "ignored",
          "traceback": [
            "\u001b[0;31m---------------------------------------------------------------------------\u001b[0m",
            "\u001b[0;31mTclError\u001b[0m                                  Traceback (most recent call last)",
            "\u001b[0;32m<ipython-input-1-e4da7888e7b6>\u001b[0m in \u001b[0;36m<module>\u001b[0;34m\u001b[0m\n\u001b[1;32m      1\u001b[0m \u001b[0;31m#1번 문제\u001b[0m\u001b[0;34m\u001b[0m\u001b[0;34m\u001b[0m\u001b[0;34m\u001b[0m\u001b[0m\n\u001b[1;32m      2\u001b[0m \u001b[0;32mimport\u001b[0m \u001b[0mturtle\u001b[0m\u001b[0;34m\u001b[0m\u001b[0;34m\u001b[0m\u001b[0m\n\u001b[0;32m----> 3\u001b[0;31m \u001b[0mt\u001b[0m \u001b[0;34m=\u001b[0m \u001b[0mturtle\u001b[0m\u001b[0;34m.\u001b[0m\u001b[0mTurtle\u001b[0m\u001b[0;34m(\u001b[0m\u001b[0;34m)\u001b[0m\u001b[0;34m\u001b[0m\u001b[0;34m\u001b[0m\u001b[0m\n\u001b[0m\u001b[1;32m      4\u001b[0m \u001b[0mt\u001b[0m\u001b[0;34m.\u001b[0m\u001b[0mshape\u001b[0m\u001b[0;34m(\u001b[0m\u001b[0;34m\"turtle\"\u001b[0m\u001b[0;34m)\u001b[0m\u001b[0;34m\u001b[0m\u001b[0;34m\u001b[0m\u001b[0m\n\u001b[1;32m      5\u001b[0m \u001b[0mt\u001b[0m\u001b[0;34m.\u001b[0m\u001b[0mcolor\u001b[0m\u001b[0;34m(\u001b[0m\u001b[0;34m\"black\"\u001b[0m\u001b[0;34m,\u001b[0m \u001b[0;34m\"white\"\u001b[0m\u001b[0;34m)\u001b[0m\u001b[0;34m\u001b[0m\u001b[0;34m\u001b[0m\u001b[0m\n",
            "\u001b[0;32m/usr/lib/python3.7/turtle.py\u001b[0m in \u001b[0;36m__init__\u001b[0;34m(self, shape, undobuffersize, visible)\u001b[0m\n\u001b[1;32m   3810\u001b[0m                  visible=_CFG[\"visible\"]):\n\u001b[1;32m   3811\u001b[0m         \u001b[0;32mif\u001b[0m \u001b[0mTurtle\u001b[0m\u001b[0;34m.\u001b[0m\u001b[0m_screen\u001b[0m \u001b[0;32mis\u001b[0m \u001b[0;32mNone\u001b[0m\u001b[0;34m:\u001b[0m\u001b[0;34m\u001b[0m\u001b[0;34m\u001b[0m\u001b[0m\n\u001b[0;32m-> 3812\u001b[0;31m             \u001b[0mTurtle\u001b[0m\u001b[0;34m.\u001b[0m\u001b[0m_screen\u001b[0m \u001b[0;34m=\u001b[0m \u001b[0mScreen\u001b[0m\u001b[0;34m(\u001b[0m\u001b[0;34m)\u001b[0m\u001b[0;34m\u001b[0m\u001b[0;34m\u001b[0m\u001b[0m\n\u001b[0m\u001b[1;32m   3813\u001b[0m         RawTurtle.__init__(self, Turtle._screen,\n\u001b[1;32m   3814\u001b[0m                            \u001b[0mshape\u001b[0m\u001b[0;34m=\u001b[0m\u001b[0mshape\u001b[0m\u001b[0;34m,\u001b[0m\u001b[0;34m\u001b[0m\u001b[0;34m\u001b[0m\u001b[0m\n",
            "\u001b[0;32m/usr/lib/python3.7/turtle.py\u001b[0m in \u001b[0;36mScreen\u001b[0;34m()\u001b[0m\n\u001b[1;32m   3660\u001b[0m     else return the existing one.\"\"\"\n\u001b[1;32m   3661\u001b[0m     \u001b[0;32mif\u001b[0m \u001b[0mTurtle\u001b[0m\u001b[0;34m.\u001b[0m\u001b[0m_screen\u001b[0m \u001b[0;32mis\u001b[0m \u001b[0;32mNone\u001b[0m\u001b[0;34m:\u001b[0m\u001b[0;34m\u001b[0m\u001b[0;34m\u001b[0m\u001b[0m\n\u001b[0;32m-> 3662\u001b[0;31m         \u001b[0mTurtle\u001b[0m\u001b[0;34m.\u001b[0m\u001b[0m_screen\u001b[0m \u001b[0;34m=\u001b[0m \u001b[0m_Screen\u001b[0m\u001b[0;34m(\u001b[0m\u001b[0;34m)\u001b[0m\u001b[0;34m\u001b[0m\u001b[0;34m\u001b[0m\u001b[0m\n\u001b[0m\u001b[1;32m   3663\u001b[0m     \u001b[0;32mreturn\u001b[0m \u001b[0mTurtle\u001b[0m\u001b[0;34m.\u001b[0m\u001b[0m_screen\u001b[0m\u001b[0;34m\u001b[0m\u001b[0;34m\u001b[0m\u001b[0m\n\u001b[1;32m   3664\u001b[0m \u001b[0;34m\u001b[0m\u001b[0m\n",
            "\u001b[0;32m/usr/lib/python3.7/turtle.py\u001b[0m in \u001b[0;36m__init__\u001b[0;34m(self)\u001b[0m\n\u001b[1;32m   3676\u001b[0m         \u001b[0;31m# preserved (perhaps by passing it as an optional parameter)\u001b[0m\u001b[0;34m\u001b[0m\u001b[0;34m\u001b[0m\u001b[0;34m\u001b[0m\u001b[0m\n\u001b[1;32m   3677\u001b[0m         \u001b[0;32mif\u001b[0m \u001b[0m_Screen\u001b[0m\u001b[0;34m.\u001b[0m\u001b[0m_root\u001b[0m \u001b[0;32mis\u001b[0m \u001b[0;32mNone\u001b[0m\u001b[0;34m:\u001b[0m\u001b[0;34m\u001b[0m\u001b[0;34m\u001b[0m\u001b[0m\n\u001b[0;32m-> 3678\u001b[0;31m             \u001b[0m_Screen\u001b[0m\u001b[0;34m.\u001b[0m\u001b[0m_root\u001b[0m \u001b[0;34m=\u001b[0m \u001b[0mself\u001b[0m\u001b[0;34m.\u001b[0m\u001b[0m_root\u001b[0m \u001b[0;34m=\u001b[0m \u001b[0m_Root\u001b[0m\u001b[0;34m(\u001b[0m\u001b[0;34m)\u001b[0m\u001b[0;34m\u001b[0m\u001b[0;34m\u001b[0m\u001b[0m\n\u001b[0m\u001b[1;32m   3679\u001b[0m             \u001b[0mself\u001b[0m\u001b[0;34m.\u001b[0m\u001b[0m_root\u001b[0m\u001b[0;34m.\u001b[0m\u001b[0mtitle\u001b[0m\u001b[0;34m(\u001b[0m\u001b[0m_Screen\u001b[0m\u001b[0;34m.\u001b[0m\u001b[0m_title\u001b[0m\u001b[0;34m)\u001b[0m\u001b[0;34m\u001b[0m\u001b[0;34m\u001b[0m\u001b[0m\n\u001b[1;32m   3680\u001b[0m             \u001b[0mself\u001b[0m\u001b[0;34m.\u001b[0m\u001b[0m_root\u001b[0m\u001b[0;34m.\u001b[0m\u001b[0mondestroy\u001b[0m\u001b[0;34m(\u001b[0m\u001b[0mself\u001b[0m\u001b[0;34m.\u001b[0m\u001b[0m_destroy\u001b[0m\u001b[0;34m)\u001b[0m\u001b[0;34m\u001b[0m\u001b[0;34m\u001b[0m\u001b[0m\n",
            "\u001b[0;32m/usr/lib/python3.7/turtle.py\u001b[0m in \u001b[0;36m__init__\u001b[0;34m(self)\u001b[0m\n\u001b[1;32m    432\u001b[0m     \u001b[0;34m\"\"\"Root class for Screen based on Tkinter.\"\"\"\u001b[0m\u001b[0;34m\u001b[0m\u001b[0;34m\u001b[0m\u001b[0m\n\u001b[1;32m    433\u001b[0m     \u001b[0;32mdef\u001b[0m \u001b[0m__init__\u001b[0m\u001b[0;34m(\u001b[0m\u001b[0mself\u001b[0m\u001b[0;34m)\u001b[0m\u001b[0;34m:\u001b[0m\u001b[0;34m\u001b[0m\u001b[0;34m\u001b[0m\u001b[0m\n\u001b[0;32m--> 434\u001b[0;31m         \u001b[0mTK\u001b[0m\u001b[0;34m.\u001b[0m\u001b[0mTk\u001b[0m\u001b[0;34m.\u001b[0m\u001b[0m__init__\u001b[0m\u001b[0;34m(\u001b[0m\u001b[0mself\u001b[0m\u001b[0;34m)\u001b[0m\u001b[0;34m\u001b[0m\u001b[0;34m\u001b[0m\u001b[0m\n\u001b[0m\u001b[1;32m    435\u001b[0m \u001b[0;34m\u001b[0m\u001b[0m\n\u001b[1;32m    436\u001b[0m     \u001b[0;32mdef\u001b[0m \u001b[0msetupcanvas\u001b[0m\u001b[0;34m(\u001b[0m\u001b[0mself\u001b[0m\u001b[0;34m,\u001b[0m \u001b[0mwidth\u001b[0m\u001b[0;34m,\u001b[0m \u001b[0mheight\u001b[0m\u001b[0;34m,\u001b[0m \u001b[0mcwidth\u001b[0m\u001b[0;34m,\u001b[0m \u001b[0mcheight\u001b[0m\u001b[0;34m)\u001b[0m\u001b[0;34m:\u001b[0m\u001b[0;34m\u001b[0m\u001b[0;34m\u001b[0m\u001b[0m\n",
            "\u001b[0;32m/usr/lib/python3.7/tkinter/__init__.py\u001b[0m in \u001b[0;36m__init__\u001b[0;34m(self, screenName, baseName, className, useTk, sync, use)\u001b[0m\n\u001b[1;32m   2021\u001b[0m                 \u001b[0mbaseName\u001b[0m \u001b[0;34m=\u001b[0m \u001b[0mbaseName\u001b[0m \u001b[0;34m+\u001b[0m \u001b[0mext\u001b[0m\u001b[0;34m\u001b[0m\u001b[0;34m\u001b[0m\u001b[0m\n\u001b[1;32m   2022\u001b[0m         \u001b[0minteractive\u001b[0m \u001b[0;34m=\u001b[0m \u001b[0;36m0\u001b[0m\u001b[0;34m\u001b[0m\u001b[0;34m\u001b[0m\u001b[0m\n\u001b[0;32m-> 2023\u001b[0;31m         \u001b[0mself\u001b[0m\u001b[0;34m.\u001b[0m\u001b[0mtk\u001b[0m \u001b[0;34m=\u001b[0m \u001b[0m_tkinter\u001b[0m\u001b[0;34m.\u001b[0m\u001b[0mcreate\u001b[0m\u001b[0;34m(\u001b[0m\u001b[0mscreenName\u001b[0m\u001b[0;34m,\u001b[0m \u001b[0mbaseName\u001b[0m\u001b[0;34m,\u001b[0m \u001b[0mclassName\u001b[0m\u001b[0;34m,\u001b[0m \u001b[0minteractive\u001b[0m\u001b[0;34m,\u001b[0m \u001b[0mwantobjects\u001b[0m\u001b[0;34m,\u001b[0m \u001b[0museTk\u001b[0m\u001b[0;34m,\u001b[0m \u001b[0msync\u001b[0m\u001b[0;34m,\u001b[0m \u001b[0muse\u001b[0m\u001b[0;34m)\u001b[0m\u001b[0;34m\u001b[0m\u001b[0;34m\u001b[0m\u001b[0m\n\u001b[0m\u001b[1;32m   2024\u001b[0m         \u001b[0;32mif\u001b[0m \u001b[0museTk\u001b[0m\u001b[0;34m:\u001b[0m\u001b[0;34m\u001b[0m\u001b[0;34m\u001b[0m\u001b[0m\n\u001b[1;32m   2025\u001b[0m             \u001b[0mself\u001b[0m\u001b[0;34m.\u001b[0m\u001b[0m_loadtk\u001b[0m\u001b[0;34m(\u001b[0m\u001b[0;34m)\u001b[0m\u001b[0;34m\u001b[0m\u001b[0;34m\u001b[0m\u001b[0m\n",
            "\u001b[0;31mTclError\u001b[0m: no display name and no $DISPLAY environment variable"
          ]
        }
      ],
      "source": [
        "#1번 문제\n",
        "import turtle                              #turtle문을 선언함\n",
        "t = turtle.Turtle()                        #변수t에 turtle.Turtle()을 선언함\n",
        "t.shape(\"turtle\")                          #거북이 모양으로 지정함\n",
        "t.color(\"black\", \"white\")                  #선의 색:검정, 채우기 색:흰색으로 선언\n",
        "s = turtle.Screen(); s.bgcolor('skyblue'); #배경색을 하늘색으로 지정함\n",
        "\n",
        "def draw_snowman(x, y):                    #눈사람을 그리는 함수 정의\n",
        "  t.up()\n",
        "  t.goto(x, y)                             #(x, y)위치로 이동\n",
        "  t.down()\n",
        "  t.begin_fill()                           #색 채우기를 시작\n",
        "  t.circle(20)                             #지름이 20인 원 그림\n",
        "  t.end_fill()                             #색 채우기 끝\n",
        "  t.goto(x, y-25)                          #(x, y-25)위치로 이동\n",
        "  t.setheading(135)                        #각도 135도 방향으로 거북이 머리를 돌림\n",
        "  t.forward(50)                            #50픽셀 만큼 전진\n",
        "  t.backward(50)                           #50픽셀 만큼 후진\n",
        "\n",
        "  t.setheading(30)                         #각도 30도 방향으로 거북이 머리를 돌림\n",
        "  t.forward(50)                            #50픽셀 만큼 전진\n",
        "  t.backward(50)                           #50픽셀 만큼 후진\n",
        "  t.setheading(0)                          #각도 0도 방향으로 거북이 머리를 돌림\n",
        "\n",
        "  t.begin_fill()                           #색 채우기를 시작\n",
        "  t.circle(15)                             #지름이 15인 원 그림\n",
        "  t.end_fill()                             #색 채우기 끝\n",
        "  t.goto(x, y-70)                          #(x, y-70)위치로 이동\n",
        "  t.begin_fill()                           #색 채우기를 시작\n",
        "  t.circle(30)                             #지름이 30인 원 그림\n",
        "  t.end_fill()                             #색 채우기 끝\n",
        "\n",
        "draw_snowman(0, 0)                         #눈사람을 그리는 위치 선정\n",
        "draw_snowman(100, 0)\n",
        "draw_snowman(200, 0)\n",
        "\n",
        "t._screen.exitonclick()                    #화면을 마우스로 클릭해야 종료되게 하는 부분"
      ]
    },
    {
      "cell_type": "code",
      "source": [
        "#2번 문제\n",
        "import turtle            #turtle문 선언\n",
        "t = turtle.Turtle()      #변수t에 turtle.Turtle()을 선언\n",
        "t.shape(\"turtle\")        #turtle을 거북이 모양으로 지정\n",
        "t.speed(0)               #turtle의 이동 속도 0으로 지정\n",
        "\n",
        "def hexagon():           #육각형을 그리는 함수 정의\n",
        "  for i in range(6):     #아래의 방법을 6번 반복한다는 것을 의미\n",
        "    turtle.forward(100)  #100픽셀 전진\n",
        "    turtle.left(360/6)   #왼쪽으로 (360을 6으로 나눈) 60도 회전\n",
        "\n",
        "for i in range(6):       #아래의 방법을 6번 반복한다는 것을 의미\n",
        "  hexagon()              #위에서 정의한 육각형(hexagon)을다시 선언\n",
        "  turtle.forward(100)    #100픽셀 전진\n",
        "  turtle.right(60)       #오른쪽으로 60도 회전\n",
        "\n",
        "t._screen.exitonclick()  #화면을 마우스로 클릭해야 종료되게 하는 부분"
      ],
      "metadata": {
        "id": "mQtoKiSGJaEE"
      },
      "execution_count": null,
      "outputs": []
    },
    {
      "cell_type": "code",
      "source": [
        "#3번 문제\n",
        "import turtle                 #turtle문 선언\n",
        "t = turtle.Turtle()           #변수t에 turtle.Turtle()을 선언\n",
        "t.shape(\"turtle\")             #turtle을 거북이 모양으로 지정\n",
        "t.speed(0)                    #turtle의 이동 속도 0으로 지정\n",
        "\n",
        "def f(x):                     #f(x)함수 정의\n",
        "  return x**2+1               \n",
        "\n",
        "t.goto(200, 0)                #(200, 0)위치로 이동\n",
        "t.goto(0, 0)                  #(0, 0)위치로 이동\n",
        "t.goto(0, 200)                #(0, 200)위치로 이동\n",
        "t.goto(0, 0)                  #(0, 0)위치로 이동\n",
        "\n",
        "for x in range(150):          #아래의 방법을 150번 반복\n",
        "  t.goto(x, int(0.01*f(x)))   #y축 방향으로 0.01씩 이동\n",
        "\n",
        "t._screen.exitonclick()       #화면을 마우스로 클릭해야 종료되게 하는 부분"
      ],
      "metadata": {
        "id": "JGh2c2dGLKlU"
      },
      "execution_count": null,
      "outputs": []
    },
    {
      "cell_type": "code",
      "source": [
        "#4번 문제\n",
        "import turtle           #turtle문 선언\n",
        "t = turtle.Turtle()     #변수t에 turtle.Turtle()을 선언\n",
        "t.shape(\"turtle\")       #turtle을 거북이 모양으로 지정\n",
        "turtle.speed(0)         #turtle의 이동 속도 0으로 지정\n",
        "\n",
        "def draw_line():        #draw_line() 정의 (단, 거북이는 움직이지 않고 실행)\n",
        "  turtle.forward(100)    #100픽셀 전진\n",
        "  turtle.backward(100)   #100픽셀 후진\n",
        "\n",
        "for x in range(12):     #아래의 방법 6번 반복하는 것을 의미\n",
        "  turtle.right(30)      #오른쪽으로 30도 회전\n",
        "  draw_line()           \n",
        "\n",
        "t._screen.exitonclick() #화면을 마우스로 클릭해야 종료되게 하는 부분"
      ],
      "metadata": {
        "id": "zC1bmZnkJ4mh"
      },
      "execution_count": null,
      "outputs": []
    },
    {
      "cell_type": "code",
      "source": [
        "#5번 문제\n",
        "person = input (\"이름을 입력하시오.:\")    #사용자에게서 이름을 입력받음\n",
        "\n",
        "def happyBirthday(person):               #happyBirthday함수 정의\n",
        "  print(\"Happy Birthday to you!\")\n",
        "  print(\"Happy Birthday to you!\")\n",
        "  print(\"Happy Birthday, dear\", person)\n",
        "  print(\"Happy Birthday to you!\")\n",
        "\n",
        "happyBirthday(person)                    #happyBirthday함수 실행"
      ],
      "metadata": {
        "colab": {
          "base_uri": "https://localhost:8080/"
        },
        "id": "YE158wj_RTfY",
        "outputId": "b5058b0f-c7fa-4b9c-c764-e8bd536120e0"
      },
      "execution_count": 5,
      "outputs": [
        {
          "output_type": "stream",
          "name": "stdout",
          "text": [
            "이름을 입력하시오.:이경아\n",
            "Happy Birthday to you!\n",
            "Happy Birthday to you!\n",
            "Happy Birthday, dear 이경아\n",
            "Happy Birthday to you!\n"
          ]
        }
      ]
    },
    {
      "cell_type": "code",
      "source": [
        "#6번 문제\n",
        "\n",
        "def sumproblem(x, y):                         #수학문제(sumproblem) 정의\n",
        "  sum = x + y                                 #입력받은 정수의 합\n",
        "  dist = \"정수\" + str(x) + \"+\"+str(y)+\"합은?\" #입력받은 정수를 통해 출력되는 수학문제 \n",
        "  print(dist)\n",
        "  \n",
        "def main():                                   #main()함수 정의\n",
        "  a = int(input(\"첫 번째 정수:\"))             #사용자로부터 정수를 입력받음\n",
        "  b = int(input(\"두 번째 정수:\"))             #사용자로부터 정수를 입력받음\n",
        "  sumproblem(a, b)                            #수학문제함수에 x,y 대신에 a, b 입력\n",
        "\n",
        "main()                                        #main()함수 출력"
      ],
      "metadata": {
        "colab": {
          "base_uri": "https://localhost:8080/"
        },
        "id": "7hSGaSyYTNAM",
        "outputId": "df24d7b7-9401-439a-83f7-55c4408eb2ff"
      },
      "execution_count": 8,
      "outputs": [
        {
          "output_type": "stream",
          "name": "stdout",
          "text": [
            "첫 번째 정수:10\n",
            "두 번째 정수:20\n",
            "정수10+20합은?\n"
          ]
        }
      ]
    },
    {
      "cell_type": "code",
      "source": [
        "#7번 문제\n",
        "PI = 3.14                            #파이를 나타내는 변수 PI 선언\n",
        "\n",
        "def circleArea(radius):              #circleArea(radius)함수 정의\n",
        "  return PI*radius*radius\n",
        "\n",
        "def circleCircumference(radius):     #circleCircumference(radius)함수 정의\n",
        "  return 2*PI*radius\n",
        "\n",
        "def main():                          #main()함수 정의\n",
        "  print(\"반지름이 5인 원의 면적:\", circleArea(5)) \n",
        "  print(\"반지름이 5인 원의 둘레:\", circleCircumference(5))\n",
        "\n",
        "main()                               #main()함수 출력\n"
      ],
      "metadata": {
        "colab": {
          "base_uri": "https://localhost:8080/"
        },
        "id": "g7QPymnVZ70m",
        "outputId": "bcbd0ad2-8978-4d08-ac1d-f2a5a549d317"
      },
      "execution_count": 9,
      "outputs": [
        {
          "output_type": "stream",
          "name": "stdout",
          "text": [
            "반지름이 5인 원의 면적: 78.5\n",
            "반지름이 5인 원의 둘레: 31.400000000000002\n"
          ]
        }
      ]
    },
    {
      "cell_type": "code",
      "source": [
        "#8번 문제\n",
        "def add(a, b):                         #덧셈(add)함수 정의\n",
        "  print(\"(%d + %d)\" % (a, b), end=\" \")\n",
        "  return a + b\n",
        "\n",
        "def subtract(a, b):                    #뺄셈(subtract)함수 정의\n",
        "  print(\"(%d - %d)\" % (a, b), end=\" \")\n",
        "  return a - b\n",
        "\n",
        "def divide (a, b):                     #나눗셈(divide)함수 정의\n",
        "  print(\"(%d / %d)\" % (a, b), end=\" \")\n",
        "  return a / b\n",
        "\n",
        "what = add(20, 10)             \n",
        "print(\"= \", what)"
      ],
      "metadata": {
        "colab": {
          "base_uri": "https://localhost:8080/"
        },
        "id": "MFzqO2BJcMt6",
        "outputId": "ca4be951-8c09-4b24-ff64-d5cd4140ac29"
      },
      "execution_count": 10,
      "outputs": [
        {
          "output_type": "stream",
          "name": "stdout",
          "text": [
            "(20 + 10) =  30\n"
          ]
        }
      ]
    }
  ]
}